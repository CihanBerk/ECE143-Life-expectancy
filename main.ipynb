{
 "cells": [
  {
   "cell_type": "code",
   "execution_count": 1,
   "metadata": {},
   "outputs": [],
   "source": [
    "from Project.Data_Cleaning import clean_data\n",
    "\n",
    "data = clean_data.CleanData() # Use cd.CleanData(log_level = 0) to see logging messages\n",
    "modified = data.modified\n",
    "NaN = data.NaN\n",
    "NoNaN = data.NoNaN\n",
    "features = data.features\n",
    "\n",
    "#To create csvs from the results of data cleaning\n",
    "#data.create_csvs()"
   ]
  },
  {
   "cell_type": "code",
   "execution_count": 2,
   "metadata": {},
   "outputs": [
    {
     "name": "stderr",
     "output_type": "stream",
     "text": [
      "C:\\Users\\Asus\\Anaconda3\\lib\\site-packages\\sklearn\\utils\\validation.py:590: DataConversionWarning: Data with input dtype int32 was converted to float64 by StandardScaler.\n",
      "  warnings.warn(msg, DataConversionWarning)\n",
      "C:\\Users\\Asus\\Anaconda3\\lib\\site-packages\\sklearn\\utils\\validation.py:590: DataConversionWarning: Data with input dtype int32 was converted to float64 by StandardScaler.\n",
      "  warnings.warn(msg, DataConversionWarning)\n"
     ]
    },
    {
     "data": {
      "text/plain": [
       "([[13, 5, 7, 0, 10, 6, 3, 12],\n",
       "  [13, 5, 12, 3, 9, 4, 11, 0],\n",
       "  [12, 3, 5, 0, 8, 10, 4, 13],\n",
       "  [12, 3, 0, 10, 1, 7, 5, 13],\n",
       "  [13, 5, 0, 7, 14, 15, 3, 12]],\n",
       " [['Population',\n",
       "   'Measles',\n",
       "   'under-five deaths',\n",
       "   'Adult Mortality',\n",
       "   'Diphtheria',\n",
       "   'BMI',\n",
       "   'percentage expenditure',\n",
       "   'GDP'],\n",
       "  ['Population',\n",
       "   'Measles',\n",
       "   'GDP',\n",
       "   'percentage expenditure',\n",
       "   'Total expenditure',\n",
       "   'Hepatitis B',\n",
       "   ' HIV/AIDS',\n",
       "   'Adult Mortality'],\n",
       "  ['GDP',\n",
       "   'percentage expenditure',\n",
       "   'Measles',\n",
       "   'Adult Mortality',\n",
       "   'Polio',\n",
       "   'Diphtheria',\n",
       "   'Hepatitis B',\n",
       "   'Population'],\n",
       "  ['GDP',\n",
       "   'percentage expenditure',\n",
       "   'Adult Mortality',\n",
       "   'Diphtheria',\n",
       "   'infant deaths',\n",
       "   'under-five deaths',\n",
       "   'Measles',\n",
       "   'Population'],\n",
       "  ['Population',\n",
       "   'Measles',\n",
       "   'Adult Mortality',\n",
       "   'under-five deaths',\n",
       "   'thinness  1-19 years',\n",
       "   'thinness 5-9 years',\n",
       "   'percentage expenditure',\n",
       "   'GDP']])"
      ]
     },
     "execution_count": 2,
     "metadata": {},
     "output_type": "execute_result"
    }
   ],
   "source": [
    "from Project.PCA import pca_analysis\n",
    "\n",
    "result_pca = pca_analysis.PCA_Analysis(data)\n",
    "\n",
    "eig_vals = result_pca.eig_vals\n",
    "Nmin = pca_analysis.calnum(eig_vals)\n",
    "\n",
    "x = result_pca.x\n",
    "finalDf = result_pca.finalDf\n",
    "features = result_pca.features\n",
    "\n",
    "PCA_output = pca_analysis.calcoefficient(x,finalDf,features)\n",
    "PCA_output"
   ]
  },
  {
   "cell_type": "code",
   "execution_count": null,
   "metadata": {},
   "outputs": [],
   "source": []
  },
  {
   "cell_type": "code",
   "execution_count": null,
   "metadata": {},
   "outputs": [],
   "source": []
  },
  {
   "cell_type": "code",
   "execution_count": null,
   "metadata": {},
   "outputs": [],
   "source": []
  }
 ],
 "metadata": {
  "kernelspec": {
   "display_name": "Python 3",
   "language": "python",
   "name": "python3"
  },
  "language_info": {
   "codemirror_mode": {
    "name": "ipython",
    "version": 3
   },
   "file_extension": ".py",
   "mimetype": "text/x-python",
   "name": "python",
   "nbconvert_exporter": "python",
   "pygments_lexer": "ipython3",
   "version": "3.6.6"
  }
 },
 "nbformat": 4,
 "nbformat_minor": 2
}
